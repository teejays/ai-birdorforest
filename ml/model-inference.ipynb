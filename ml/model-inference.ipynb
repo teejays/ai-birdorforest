{
 "cells": [
  {
   "cell_type": "markdown",
   "id": "6d73ea6b-70c3-4984-bd3f-f0baedbf1767",
   "metadata": {},
   "source": [
    "# Prototype WebServer"
   ]
  },
  {
   "cell_type": "markdown",
   "id": "aecfd147-245b-4c38-8ab2-d4da87234538",
   "metadata": {},
   "source": [
    "Jupyter Notebook to act as a Prototype WebServer, based on instructions from [FastAI Course Chaper 2](https://github.com/fastai/fastbook/blob/master/02_production.ipynb)."
   ]
  },
  {
   "cell_type": "code",
   "execution_count": 1,
   "id": "12d1df66-0493-45b0-9212-20b77bad9772",
   "metadata": {},
   "outputs": [
    {
     "name": "stderr",
     "output_type": "stream",
     "text": [
      "/Users/teejays/Development/ai/lab-birdorforest/ml/venv-labbirdorforest-ml/lib/python3.9/site-packages/urllib3/__init__.py:35: NotOpenSSLWarning: urllib3 v2 only supports OpenSSL 1.1.1+, currently the 'ssl' module is compiled with 'LibreSSL 2.8.3'. See: https://github.com/urllib3/urllib3/issues/3020\n",
      "  warnings.warn(\n"
     ]
    }
   ],
   "source": [
    "#hide\n",
    "#hide_output\n",
    "from fastai.vision.all import load_learner\n",
    "learn_inf = load_learner('trained_model.pkl')"
   ]
  },
  {
   "cell_type": "code",
   "execution_count": 2,
   "id": "89774631-201a-4e50-92d6-1bdd48eb18bd",
   "metadata": {},
   "outputs": [],
   "source": [
    "#hide\n",
    "from ipywidgets import widgets\n",
    "btn_upload = widgets.FileUpload()"
   ]
  },
  {
   "cell_type": "code",
   "execution_count": 3,
   "id": "7f0ef361-d372-445f-99d3-1f4bf054a2ce",
   "metadata": {},
   "outputs": [],
   "source": [
    "#hide\n",
    "out_pl = widgets.Output()\n",
    "out_pl.clear_output()"
   ]
  },
  {
   "cell_type": "code",
   "execution_count": 4,
   "id": "428f7ba6-a50f-4601-8e30-3b4ed209eec0",
   "metadata": {},
   "outputs": [],
   "source": [
    "#hide\n",
    "lbl_pred = widgets.Label()"
   ]
  },
  {
   "cell_type": "code",
   "execution_count": 5,
   "id": "fa50064e-7df6-43f6-8b15-79447d8f4b5c",
   "metadata": {},
   "outputs": [],
   "source": [
    "#hide\n",
    "btn_run = widgets.Button(description='Classify')"
   ]
  },
  {
   "cell_type": "code",
   "execution_count": 6,
   "id": "1c7edf4a-c499-40c5-95ea-3d048ef18482",
   "metadata": {},
   "outputs": [],
   "source": [
    "#hide\n",
    "from fastai.vision.all import PILImage\n",
    "\n",
    "def on_click_classify(btn_run_instance):\n",
    "    print(\"on_click_classify\")\n",
    "    if len(btn_upload.value) > 0:\n",
    "        img = PILImage.create(btn_upload.value[0].content.tobytes())\n",
    "        out_pl.clear_output()\n",
    "        with out_pl: display(img.to_thumb(128,128))\n",
    "        pred,pred_idx,probs = learn_inf.predict(img)\n",
    "        lbl_pred.value = f'Prediction: {pred}; Probability: {probs[pred_idx]:.04f}'\n",
    "\n",
    "btn_run.on_click(on_click_classify)"
   ]
  },
  {
   "cell_type": "code",
   "execution_count": 7,
   "id": "35609ae6-09b2-49dc-957d-c5747ac183dd",
   "metadata": {},
   "outputs": [
    {
     "data": {
      "application/vnd.jupyter.widget-view+json": {
       "model_id": "87ad6a6043ec486695d265ca6bccbb77",
       "version_major": 2,
       "version_minor": 0
      },
      "text/plain": [
       "VBox(children=(Label(value='Select your image!'), FileUpload(value=(), description='Upload'), Button(descripti…"
      ]
     },
     "execution_count": 7,
     "metadata": {},
     "output_type": "execute_result"
    }
   ],
   "source": [
    "#hide\n",
    "from ipywidgets import VBox\n",
    "VBox([widgets.Label('Select your image!'), \n",
    "      btn_upload, btn_run, out_pl, lbl_pred])"
   ]
  }
 ],
 "metadata": {
  "kernelspec": {
   "display_name": "Python 3 (ipykernel)",
   "language": "python",
   "name": "python3"
  },
  "language_info": {
   "codemirror_mode": {
    "name": "ipython",
    "version": 3
   },
   "file_extension": ".py",
   "mimetype": "text/x-python",
   "name": "python",
   "nbconvert_exporter": "python",
   "pygments_lexer": "ipython3",
   "version": "3.9.6"
  }
 },
 "nbformat": 4,
 "nbformat_minor": 5
}
